{
 "cells": [
  {
   "attachments": {},
   "cell_type": "markdown",
   "metadata": {},
   "source": [
    "# Machine Learning project\n",
    "By Mattia Barbiere"
   ]
  },
  {
   "cell_type": "code",
   "execution_count": 138,
   "metadata": {},
   "outputs": [],
   "source": [
    "import sys\n",
    "import sklearn\n",
    "import csv\n",
    "import pandas as pd\n",
    "import numpy as np\n",
    "import matplotlib.pyplot as plt\n",
    "import matplotlib\n",
    "import seaborn as sns\n",
    "import warnings\n"
   ]
  },
  {
   "cell_type": "code",
   "execution_count": 139,
   "metadata": {},
   "outputs": [],
   "source": [
    "df = pd.read_csv(\"mldata_0003151393.csv\", index_col=0)"
   ]
  },
  {
   "cell_type": "code",
   "execution_count": 140,
   "metadata": {},
   "outputs": [
    {
     "name": "stdout",
     "output_type": "stream",
     "text": [
      "2.0141666666666667\n",
      "0.10157465347525149\n",
      "-0.16671013516841957\n",
      "0.13298123610853088\n",
      "-0.08711174904388803\n",
      "0.1255218199715846\n",
      "0.253445671295189\n",
      "0.31311224920664077\n",
      "0.10700662739801253\n",
      "0.4883202091121518\n",
      "0.09352928843167466\n",
      "0.08336231126198083\n",
      "-0.4328550967032481\n",
      "0.08003992543083605\n",
      "-0.6011694724154556\n",
      "0.044112453245636896\n",
      "0.4762917149390366\n",
      "0.0964802548840801\n",
      "0.09264297832785592\n",
      "0.08221226958318986\n",
      "-0.45667411146032216\n"
     ]
    }
   ],
   "source": [
    "for i in df.columns:\n",
    "    print(df[i].mean())"
   ]
  },
  {
   "cell_type": "code",
   "execution_count": 141,
   "metadata": {},
   "outputs": [
    {
     "name": "stdout",
     "output_type": "stream",
     "text": [
      "1.4173826054024028\n",
      "2.0782991205770545\n",
      "1.981570830889979\n",
      "0.967589995397125\n",
      "2.0536833525361318\n",
      "1.9387203823072805\n",
      "2.006632337119499\n",
      "3.2000073091607253\n",
      "1.0100857402951804\n",
      "2.187283553031497\n",
      "1.012772077976055\n",
      "1.0522024976350732\n",
      "3.9191048732283083\n",
      "0.9924997998391863\n",
      "3.672404130054445\n",
      "1.0090592977395891\n",
      "1.9158544349658608\n",
      "0.9897959521219011\n",
      "1.005401262922337\n",
      "1.9611801382505776\n",
      "1.9067285108827712\n"
     ]
    }
   ],
   "source": [
    "for i in df.columns:\n",
    "    print(df[i].std())"
   ]
  },
  {
   "cell_type": "code",
   "execution_count": 142,
   "metadata": {},
   "outputs": [
    {
     "data": {
      "text/html": [
       "<div>\n",
       "<style scoped>\n",
       "    .dataframe tbody tr th:only-of-type {\n",
       "        vertical-align: middle;\n",
       "    }\n",
       "\n",
       "    .dataframe tbody tr th {\n",
       "        vertical-align: top;\n",
       "    }\n",
       "\n",
       "    .dataframe thead th {\n",
       "        text-align: right;\n",
       "    }\n",
       "</style>\n",
       "<table border=\"1\" class=\"dataframe\">\n",
       "  <thead>\n",
       "    <tr style=\"text-align: right;\">\n",
       "      <th></th>\n",
       "      <th>label</th>\n",
       "      <th>feature_1</th>\n",
       "      <th>feature_2</th>\n",
       "      <th>feature_3</th>\n",
       "      <th>feature_4</th>\n",
       "      <th>feature_5</th>\n",
       "      <th>feature_6</th>\n",
       "      <th>feature_7</th>\n",
       "      <th>feature_8</th>\n",
       "      <th>feature_9</th>\n",
       "      <th>...</th>\n",
       "      <th>feature_11</th>\n",
       "      <th>feature_12</th>\n",
       "      <th>feature_13</th>\n",
       "      <th>feature_14</th>\n",
       "      <th>feature_15</th>\n",
       "      <th>feature_16</th>\n",
       "      <th>feature_17</th>\n",
       "      <th>feature_18</th>\n",
       "      <th>feature_19</th>\n",
       "      <th>feature_20</th>\n",
       "    </tr>\n",
       "  </thead>\n",
       "  <tbody>\n",
       "    <tr>\n",
       "      <th>0</th>\n",
       "      <td>1</td>\n",
       "      <td>-2.887351</td>\n",
       "      <td>2.368955</td>\n",
       "      <td>-0.625925</td>\n",
       "      <td>-3.978334</td>\n",
       "      <td>-0.326955</td>\n",
       "      <td>4.055608</td>\n",
       "      <td>-0.235264</td>\n",
       "      <td>0.273827</td>\n",
       "      <td>-0.517484</td>\n",
       "      <td>...</td>\n",
       "      <td>1.510891</td>\n",
       "      <td>-0.111374</td>\n",
       "      <td>0.940897</td>\n",
       "      <td>-3.955810</td>\n",
       "      <td>-0.363500</td>\n",
       "      <td>0.199346</td>\n",
       "      <td>0.461904</td>\n",
       "      <td>-0.126972</td>\n",
       "      <td>1.626261</td>\n",
       "      <td>-0.182263</td>\n",
       "    </tr>\n",
       "    <tr>\n",
       "      <th>1</th>\n",
       "      <td>3</td>\n",
       "      <td>1.334865</td>\n",
       "      <td>-1.751757</td>\n",
       "      <td>-0.578244</td>\n",
       "      <td>-2.852914</td>\n",
       "      <td>-0.046243</td>\n",
       "      <td>-0.404612</td>\n",
       "      <td>4.838986</td>\n",
       "      <td>2.054794</td>\n",
       "      <td>0.641435</td>\n",
       "      <td>...</td>\n",
       "      <td>-1.172510</td>\n",
       "      <td>-0.015095</td>\n",
       "      <td>0.175453</td>\n",
       "      <td>-2.446950</td>\n",
       "      <td>-0.718050</td>\n",
       "      <td>0.596897</td>\n",
       "      <td>0.170454</td>\n",
       "      <td>-1.004904</td>\n",
       "      <td>2.982466</td>\n",
       "      <td>-3.522866</td>\n",
       "    </tr>\n",
       "    <tr>\n",
       "      <th>2</th>\n",
       "      <td>0</td>\n",
       "      <td>-1.073810</td>\n",
       "      <td>3.398483</td>\n",
       "      <td>-1.099216</td>\n",
       "      <td>1.529714</td>\n",
       "      <td>1.319205</td>\n",
       "      <td>4.183233</td>\n",
       "      <td>-4.627822</td>\n",
       "      <td>0.452511</td>\n",
       "      <td>3.557216</td>\n",
       "      <td>...</td>\n",
       "      <td>0.821012</td>\n",
       "      <td>6.678114</td>\n",
       "      <td>-0.540001</td>\n",
       "      <td>1.582700</td>\n",
       "      <td>0.466075</td>\n",
       "      <td>-2.284209</td>\n",
       "      <td>0.133034</td>\n",
       "      <td>0.216640</td>\n",
       "      <td>2.448328</td>\n",
       "      <td>2.277177</td>\n",
       "    </tr>\n",
       "    <tr>\n",
       "      <th>3</th>\n",
       "      <td>3</td>\n",
       "      <td>-1.459105</td>\n",
       "      <td>0.604342</td>\n",
       "      <td>-0.052011</td>\n",
       "      <td>0.196076</td>\n",
       "      <td>2.174851</td>\n",
       "      <td>-0.732217</td>\n",
       "      <td>-1.997095</td>\n",
       "      <td>2.443736</td>\n",
       "      <td>3.655130</td>\n",
       "      <td>...</td>\n",
       "      <td>0.491459</td>\n",
       "      <td>-0.112123</td>\n",
       "      <td>1.388338</td>\n",
       "      <td>-2.690753</td>\n",
       "      <td>0.997441</td>\n",
       "      <td>-0.957406</td>\n",
       "      <td>-1.423567</td>\n",
       "      <td>-0.276991</td>\n",
       "      <td>0.858894</td>\n",
       "      <td>-0.212745</td>\n",
       "    </tr>\n",
       "    <tr>\n",
       "      <th>4</th>\n",
       "      <td>2</td>\n",
       "      <td>0.508266</td>\n",
       "      <td>3.532480</td>\n",
       "      <td>-0.196915</td>\n",
       "      <td>-3.370030</td>\n",
       "      <td>0.177465</td>\n",
       "      <td>0.025390</td>\n",
       "      <td>2.840482</td>\n",
       "      <td>1.251280</td>\n",
       "      <td>-3.536680</td>\n",
       "      <td>...</td>\n",
       "      <td>0.758948</td>\n",
       "      <td>-5.192279</td>\n",
       "      <td>-0.341884</td>\n",
       "      <td>-2.078780</td>\n",
       "      <td>1.978526</td>\n",
       "      <td>1.532484</td>\n",
       "      <td>2.001019</td>\n",
       "      <td>-1.013421</td>\n",
       "      <td>-1.295467</td>\n",
       "      <td>-1.002012</td>\n",
       "    </tr>\n",
       "    <tr>\n",
       "      <th>5</th>\n",
       "      <td>4</td>\n",
       "      <td>-0.316656</td>\n",
       "      <td>-0.922855</td>\n",
       "      <td>1.447635</td>\n",
       "      <td>1.699483</td>\n",
       "      <td>0.022101</td>\n",
       "      <td>0.473463</td>\n",
       "      <td>-0.126300</td>\n",
       "      <td>0.966990</td>\n",
       "      <td>1.545700</td>\n",
       "      <td>...</td>\n",
       "      <td>-0.574484</td>\n",
       "      <td>2.309736</td>\n",
       "      <td>-1.206329</td>\n",
       "      <td>0.574633</td>\n",
       "      <td>-0.158552</td>\n",
       "      <td>-1.874306</td>\n",
       "      <td>0.576478</td>\n",
       "      <td>-0.918869</td>\n",
       "      <td>-0.961063</td>\n",
       "      <td>0.828915</td>\n",
       "    </tr>\n",
       "    <tr>\n",
       "      <th>6</th>\n",
       "      <td>3</td>\n",
       "      <td>-0.350357</td>\n",
       "      <td>-0.280938</td>\n",
       "      <td>1.572685</td>\n",
       "      <td>0.922978</td>\n",
       "      <td>2.159589</td>\n",
       "      <td>-1.828143</td>\n",
       "      <td>1.953110</td>\n",
       "      <td>1.780278</td>\n",
       "      <td>0.755949</td>\n",
       "      <td>...</td>\n",
       "      <td>-0.297084</td>\n",
       "      <td>1.999719</td>\n",
       "      <td>1.578167</td>\n",
       "      <td>-0.109991</td>\n",
       "      <td>0.199291</td>\n",
       "      <td>-2.984111</td>\n",
       "      <td>0.158336</td>\n",
       "      <td>-1.480244</td>\n",
       "      <td>-0.604203</td>\n",
       "      <td>-1.328385</td>\n",
       "    </tr>\n",
       "    <tr>\n",
       "      <th>7</th>\n",
       "      <td>2</td>\n",
       "      <td>1.512664</td>\n",
       "      <td>2.661731</td>\n",
       "      <td>-1.997446</td>\n",
       "      <td>-0.114986</td>\n",
       "      <td>-0.558272</td>\n",
       "      <td>-0.272194</td>\n",
       "      <td>2.245315</td>\n",
       "      <td>2.066404</td>\n",
       "      <td>1.031266</td>\n",
       "      <td>...</td>\n",
       "      <td>-1.191092</td>\n",
       "      <td>-4.413065</td>\n",
       "      <td>1.049424</td>\n",
       "      <td>-2.668520</td>\n",
       "      <td>-0.566365</td>\n",
       "      <td>0.140097</td>\n",
       "      <td>1.048035</td>\n",
       "      <td>-0.162599</td>\n",
       "      <td>-2.040033</td>\n",
       "      <td>-0.893740</td>\n",
       "    </tr>\n",
       "    <tr>\n",
       "      <th>8</th>\n",
       "      <td>2</td>\n",
       "      <td>-1.331660</td>\n",
       "      <td>0.894030</td>\n",
       "      <td>0.167612</td>\n",
       "      <td>-2.500779</td>\n",
       "      <td>2.216463</td>\n",
       "      <td>5.035682</td>\n",
       "      <td>-5.196242</td>\n",
       "      <td>0.905760</td>\n",
       "      <td>2.859414</td>\n",
       "      <td>...</td>\n",
       "      <td>-0.008510</td>\n",
       "      <td>4.528739</td>\n",
       "      <td>0.215946</td>\n",
       "      <td>0.495931</td>\n",
       "      <td>-1.454981</td>\n",
       "      <td>0.590947</td>\n",
       "      <td>-0.027441</td>\n",
       "      <td>0.839361</td>\n",
       "      <td>2.616551</td>\n",
       "      <td>3.506210</td>\n",
       "    </tr>\n",
       "    <tr>\n",
       "      <th>9</th>\n",
       "      <td>3</td>\n",
       "      <td>0.437816</td>\n",
       "      <td>-0.601652</td>\n",
       "      <td>-0.031859</td>\n",
       "      <td>-1.010379</td>\n",
       "      <td>-1.492245</td>\n",
       "      <td>1.222452</td>\n",
       "      <td>3.299241</td>\n",
       "      <td>0.504061</td>\n",
       "      <td>-0.439967</td>\n",
       "      <td>...</td>\n",
       "      <td>-0.762156</td>\n",
       "      <td>-3.027410</td>\n",
       "      <td>-1.525858</td>\n",
       "      <td>-2.826487</td>\n",
       "      <td>1.820201</td>\n",
       "      <td>1.583277</td>\n",
       "      <td>-0.455038</td>\n",
       "      <td>-1.004994</td>\n",
       "      <td>-0.963731</td>\n",
       "      <td>-2.737519</td>\n",
       "    </tr>\n",
       "  </tbody>\n",
       "</table>\n",
       "<p>10 rows × 21 columns</p>\n",
       "</div>"
      ],
      "text/plain": [
       "   label  feature_1  feature_2  feature_3  feature_4  feature_5  feature_6  \\\n",
       "0      1  -2.887351   2.368955  -0.625925  -3.978334  -0.326955   4.055608   \n",
       "1      3   1.334865  -1.751757  -0.578244  -2.852914  -0.046243  -0.404612   \n",
       "2      0  -1.073810   3.398483  -1.099216   1.529714   1.319205   4.183233   \n",
       "3      3  -1.459105   0.604342  -0.052011   0.196076   2.174851  -0.732217   \n",
       "4      2   0.508266   3.532480  -0.196915  -3.370030   0.177465   0.025390   \n",
       "5      4  -0.316656  -0.922855   1.447635   1.699483   0.022101   0.473463   \n",
       "6      3  -0.350357  -0.280938   1.572685   0.922978   2.159589  -1.828143   \n",
       "7      2   1.512664   2.661731  -1.997446  -0.114986  -0.558272  -0.272194   \n",
       "8      2  -1.331660   0.894030   0.167612  -2.500779   2.216463   5.035682   \n",
       "9      3   0.437816  -0.601652  -0.031859  -1.010379  -1.492245   1.222452   \n",
       "\n",
       "   feature_7  feature_8  feature_9  ...  feature_11  feature_12  feature_13  \\\n",
       "0  -0.235264   0.273827  -0.517484  ...    1.510891   -0.111374    0.940897   \n",
       "1   4.838986   2.054794   0.641435  ...   -1.172510   -0.015095    0.175453   \n",
       "2  -4.627822   0.452511   3.557216  ...    0.821012    6.678114   -0.540001   \n",
       "3  -1.997095   2.443736   3.655130  ...    0.491459   -0.112123    1.388338   \n",
       "4   2.840482   1.251280  -3.536680  ...    0.758948   -5.192279   -0.341884   \n",
       "5  -0.126300   0.966990   1.545700  ...   -0.574484    2.309736   -1.206329   \n",
       "6   1.953110   1.780278   0.755949  ...   -0.297084    1.999719    1.578167   \n",
       "7   2.245315   2.066404   1.031266  ...   -1.191092   -4.413065    1.049424   \n",
       "8  -5.196242   0.905760   2.859414  ...   -0.008510    4.528739    0.215946   \n",
       "9   3.299241   0.504061  -0.439967  ...   -0.762156   -3.027410   -1.525858   \n",
       "\n",
       "   feature_14  feature_15  feature_16  feature_17  feature_18  feature_19  \\\n",
       "0   -3.955810   -0.363500    0.199346    0.461904   -0.126972    1.626261   \n",
       "1   -2.446950   -0.718050    0.596897    0.170454   -1.004904    2.982466   \n",
       "2    1.582700    0.466075   -2.284209    0.133034    0.216640    2.448328   \n",
       "3   -2.690753    0.997441   -0.957406   -1.423567   -0.276991    0.858894   \n",
       "4   -2.078780    1.978526    1.532484    2.001019   -1.013421   -1.295467   \n",
       "5    0.574633   -0.158552   -1.874306    0.576478   -0.918869   -0.961063   \n",
       "6   -0.109991    0.199291   -2.984111    0.158336   -1.480244   -0.604203   \n",
       "7   -2.668520   -0.566365    0.140097    1.048035   -0.162599   -2.040033   \n",
       "8    0.495931   -1.454981    0.590947   -0.027441    0.839361    2.616551   \n",
       "9   -2.826487    1.820201    1.583277   -0.455038   -1.004994   -0.963731   \n",
       "\n",
       "   feature_20  \n",
       "0   -0.182263  \n",
       "1   -3.522866  \n",
       "2    2.277177  \n",
       "3   -0.212745  \n",
       "4   -1.002012  \n",
       "5    0.828915  \n",
       "6   -1.328385  \n",
       "7   -0.893740  \n",
       "8    3.506210  \n",
       "9   -2.737519  \n",
       "\n",
       "[10 rows x 21 columns]"
      ]
     },
     "execution_count": 142,
     "metadata": {},
     "output_type": "execute_result"
    }
   ],
   "source": [
    "df.head(10)"
   ]
  },
  {
   "attachments": {},
   "cell_type": "markdown",
   "metadata": {},
   "source": [
    "# Standerdizing the model"
   ]
  },
  {
   "cell_type": "code",
   "execution_count": 143,
   "metadata": {},
   "outputs": [
    {
     "data": {
      "text/plain": [
       "label         0\n",
       "feature_1     0\n",
       "feature_2     0\n",
       "feature_3     0\n",
       "feature_4     0\n",
       "feature_5     0\n",
       "feature_6     0\n",
       "feature_7     0\n",
       "feature_8     0\n",
       "feature_9     0\n",
       "feature_10    0\n",
       "feature_11    0\n",
       "feature_12    0\n",
       "feature_13    0\n",
       "feature_14    0\n",
       "feature_15    0\n",
       "feature_16    0\n",
       "feature_17    0\n",
       "feature_18    0\n",
       "feature_19    0\n",
       "feature_20    0\n",
       "dtype: int64"
      ]
     },
     "execution_count": 143,
     "metadata": {},
     "output_type": "execute_result"
    }
   ],
   "source": [
    "df.isna().sum()"
   ]
  },
  {
   "cell_type": "code",
   "execution_count": 144,
   "metadata": {},
   "outputs": [
    {
     "data": {
      "text/plain": [
       "1    223\n",
       "3    246\n",
       "0    244\n",
       "2    246\n",
       "4    241\n",
       "Name: label, dtype: int64"
      ]
     },
     "execution_count": 144,
     "metadata": {},
     "output_type": "execute_result"
    }
   ],
   "source": [
    "df['label'].value_counts(sort=False)"
   ]
  },
  {
   "cell_type": "code",
   "execution_count": 145,
   "metadata": {},
   "outputs": [],
   "source": [
    "from sklearn.model_selection import train_test_split\n",
    "\n",
    "#Train test split\n",
    "X_train, X_test, y_train, y_test = train_test_split(df[df.columns[1:]], df['label'], test_size=0.2, random_state=42)"
   ]
  },
  {
   "cell_type": "code",
   "execution_count": 146,
   "metadata": {},
   "outputs": [
    {
     "name": "stdout",
     "output_type": "stream",
     "text": [
      "[2 2 2 0 4 0 4 0 4 1 0 4 0 2 4 3 3 3 1 3 4 4 4 0 2 0 3 4 4 3 0 2 0 4 3 0 4\n",
      " 0 4 4 0 3 2 0 4 0 2 2 2 3 1 1 4 4 3 2 4 0 4 2 3 1 3 2 2 1 0 3 3 1 0 2 4 0\n",
      " 3 3 4 0 0 0 0 2 4 3 3 3 0 2 0 2 2 2 2 0 2 2 0 3 4 0 2 4 2 4 4 4 1 4 4 2 4\n",
      " 0 4 2 3 4 1 2 2 4 4 2 4 1 4 0 2 2 2 0 4 3 2 2 2 4 4 3 4 3 2 1 3 2 2 3 3 4\n",
      " 0 1 3 4 3 0 0 4 0 4 3 4 4 4 4 4 4 0 4 1 2 2 3 2 4 0 4 3 4 3 0 4 2 3 2 3 3\n",
      " 3 0 4 2 1 2 4 2 0 2 3 2 2 0 4 4 3 3 0 0 3 4 3 4 2 1 0 3 4 3 0 3 3 2 2 3 4\n",
      " 1 4 0 0 4 0 1 0 3 2 4 4 0 0 2 1 4 1]\n",
      "[4 4 4 0 4 0 1 1 4 1 4 1 2 2 2 1 3 3 3 3 4 4 4 4 2 0 0 2 4 3 2 0 0 1 1 0 1\n",
      " 2 2 0 4 4 2 4 4 1 0 4 4 0 1 2 4 0 3 3 2 0 2 3 0 1 3 2 2 1 0 0 4 1 1 2 4 0\n",
      " 2 1 3 2 3 0 2 1 4 3 3 1 0 2 1 1 4 2 4 0 2 2 4 0 4 4 0 4 4 4 0 4 1 4 4 2 0\n",
      " 3 4 2 3 3 4 2 1 4 4 2 0 1 2 1 3 0 3 1 3 1 2 2 1 4 4 4 4 1 0 3 0 2 2 3 3 3\n",
      " 0 4 3 0 3 0 0 0 0 3 3 4 3 4 2 4 0 1 4 1 1 2 3 2 4 2 1 3 2 1 1 4 3 4 1 1 1\n",
      " 4 2 4 2 1 2 4 1 0 3 1 2 1 0 0 3 0 3 0 0 1 1 3 3 0 0 0 0 4 3 3 1 3 2 2 3 4\n",
      " 1 2 0 3 0 0 1 0 0 2 4 1 0 0 2 1 1 3]\n",
      "Logistic Regression initial score:  0.4583333333333333\n",
      "K Nearest Neighbor initial score:  0.725\n"
     ]
    }
   ],
   "source": [
    "from sklearn.preprocessing import StandardScaler\n",
    "from sklearn.pipeline import Pipeline\n",
    "from sklearn.linear_model import LogisticRegression\n",
    "from sklearn.neighbors import KNeighborsClassifier\n",
    "\n",
    "# Making the one pipeline for each model\n",
    "pipe_logi = Pipeline([\n",
    "        ('std_scaler', None),\n",
    "        ('logi_model', LogisticRegression(random_state=0))\n",
    "    ])\n",
    "\n",
    "pipe_knn = Pipeline([\n",
    "        ('std_scaler', None),\n",
    "        ('KNN_model', KNeighborsClassifier())\n",
    "    ])\n",
    "\n",
    "#Fitting\n",
    "pipe_logi.fit(X_train,y_train)\n",
    "pipe_knn.fit(X_train,y_train)\n",
    "\n",
    "print(pipe_logi.predict(X_test))\n",
    "print(pipe_knn.predict(X_test))\n",
    "\n",
    "print(\"Logistic Regression initial score: \", pipe_logi.score(X_test, y_test))\n",
    "print(\"K Nearest Neighbor initial score: \", pipe_knn.score(X_test, y_test))"
   ]
  },
  {
   "cell_type": "code",
   "execution_count": 147,
   "metadata": {},
   "outputs": [
    {
     "data": {
      "text/plain": [
       "{'memory': None,\n",
       " 'steps': [('std_scaler', None), ('KNN_model', KNeighborsClassifier())],\n",
       " 'verbose': False,\n",
       " 'std_scaler': None,\n",
       " 'KNN_model': KNeighborsClassifier(),\n",
       " 'KNN_model__algorithm': 'auto',\n",
       " 'KNN_model__leaf_size': 30,\n",
       " 'KNN_model__metric': 'minkowski',\n",
       " 'KNN_model__metric_params': None,\n",
       " 'KNN_model__n_jobs': None,\n",
       " 'KNN_model__n_neighbors': 5,\n",
       " 'KNN_model__p': 2,\n",
       " 'KNN_model__weights': 'uniform'}"
      ]
     },
     "execution_count": 147,
     "metadata": {},
     "output_type": "execute_result"
    }
   ],
   "source": [
    "pipe_knn.get_params()"
   ]
  },
  {
   "cell_type": "code",
   "execution_count": 148,
   "metadata": {},
   "outputs": [
    {
     "data": {
      "text/plain": [
       "{'memory': None,\n",
       " 'steps': [('std_scaler', None),\n",
       "  ('logi_model', LogisticRegression(random_state=0))],\n",
       " 'verbose': False,\n",
       " 'std_scaler': None,\n",
       " 'logi_model': LogisticRegression(random_state=0),\n",
       " 'logi_model__C': 1.0,\n",
       " 'logi_model__class_weight': None,\n",
       " 'logi_model__dual': False,\n",
       " 'logi_model__fit_intercept': True,\n",
       " 'logi_model__intercept_scaling': 1,\n",
       " 'logi_model__l1_ratio': None,\n",
       " 'logi_model__max_iter': 100,\n",
       " 'logi_model__multi_class': 'auto',\n",
       " 'logi_model__n_jobs': None,\n",
       " 'logi_model__penalty': 'l2',\n",
       " 'logi_model__random_state': 0,\n",
       " 'logi_model__solver': 'lbfgs',\n",
       " 'logi_model__tol': 0.0001,\n",
       " 'logi_model__verbose': 0,\n",
       " 'logi_model__warm_start': False}"
      ]
     },
     "execution_count": 148,
     "metadata": {},
     "output_type": "execute_result"
    }
   ],
   "source": [
    "pipe_logi.get_params()"
   ]
  },
  {
   "cell_type": "code",
   "execution_count": 149,
   "metadata": {},
   "outputs": [
    {
     "name": "stdout",
     "output_type": "stream",
     "text": [
      "0.7052083333333333\n"
     ]
    },
    {
     "data": {
      "text/plain": [
       "{'KNN_model__algorithm': 'auto',\n",
       " 'KNN_model__leaf_size': 10,\n",
       " 'KNN_model__n_neighbors': 6,\n",
       " 'KNN_model__p': 2,\n",
       " 'KNN_model__weights': 'uniform'}"
      ]
     },
     "execution_count": 149,
     "metadata": {},
     "output_type": "execute_result"
    }
   ],
   "source": [
    "from sklearn.model_selection import GridSearchCV\n",
    "from sklearn.model_selection import KFold\n",
    "warnings.simplefilter('ignore')\n",
    "\n",
    "#Grid search for K Nearest Neighbors\n",
    "g_param_knn = {'KNN_model__algorithm': ['auto', 'ball_tree', 'kd_tree', 'brute'],\n",
    "                'KNN_model__leaf_size': [10, 20, 30, 40, 50],\n",
    "                'KNN_model__n_neighbors': [2, 3, 4, 5, 6, 7],\n",
    "                'KNN_model__p': [0, 1, 2],\n",
    "                'KNN_model__weights': ['uniform', 'distance']}\n",
    "g_knn = GridSearchCV(pipe_knn, g_param_knn, cv=KFold(shuffle=True, n_splits=5), scoring='accuracy', n_jobs=-1)\n",
    "g_knn.fit(X_train, y_train)\n",
    "\n",
    "#Results of Grid Search\n",
    "print(g_knn.best_score_)\n",
    "g_knn.best_params_\n",
    "\n"
   ]
  },
  {
   "cell_type": "code",
   "execution_count": 150,
   "metadata": {},
   "outputs": [
    {
     "name": "stdout",
     "output_type": "stream",
     "text": [
      "K Nearest Neighbor score after Grid Search:  0.7416666666666667\n",
      "K Nearest Neighbor mean CV score after Grid Search:  0.6864583333333334\n"
     ]
    }
   ],
   "source": [
    "from sklearn.model_selection import cross_val_score\n",
    "\n",
    "pipe_knn.set_params(**g_knn.best_params_)\n",
    "pipe_knn.fit(X_train,y_train)\n",
    "print(\"K Nearest Neighbor score after Grid Search: \", pipe_knn.score(X_test, y_test))\n",
    "print(\"K Nearest Neighbor mean CV score after Grid Search: \", cross_val_score(pipe_knn, X_train, y_train, cv=KFold(shuffle=True, n_splits=5), scoring=\"accuracy\").mean())\n"
   ]
  },
  {
   "cell_type": "code",
   "execution_count": 151,
   "metadata": {},
   "outputs": [
    {
     "name": "stdout",
     "output_type": "stream",
     "text": [
      "0.4729166666666667\n"
     ]
    },
    {
     "data": {
      "text/plain": [
       "{'logi_model__C': 0.004281332398719391,\n",
       " 'logi_model__class_weight': None,\n",
       " 'logi_model__l1_ratio': 0,\n",
       " 'logi_model__multi_class': 'ovr',\n",
       " 'logi_model__penalty': 'l2',\n",
       " 'std_scaler': None}"
      ]
     },
     "execution_count": 151,
     "metadata": {},
     "output_type": "execute_result"
    }
   ],
   "source": [
    "#Grid search for Logistic Regression\n",
    "g_param_logi = {'std_scaler': [StandardScaler(), None],\n",
    "                'logi_model__penalty' : ['l1', 'l2', 'elasticnet', None],\n",
    "               'logi_model__C' : np.logspace(-5, 5, 20),\n",
    "               'logi_model__multi_class': ['multinomial', 'ovr'],\n",
    "               'logi_model__l1_ratio': [0, 0.25, 0.5, 0.75, 1, None],\n",
    "               'logi_model__class_weight': [None, 'balanced']\n",
    "               }\n",
    "g_logi = GridSearchCV(pipe_logi, g_param_logi, cv=KFold(shuffle=True, n_splits=5), scoring='accuracy', n_jobs=-1)\n",
    "g_logi.fit(X_train, y_train)\n",
    "\n",
    "#Results of Grid Search\n",
    "print(g_logi.best_score_)\n",
    "g_logi.best_params_\n"
   ]
  },
  {
   "cell_type": "code",
   "execution_count": 152,
   "metadata": {},
   "outputs": [
    {
     "name": "stdout",
     "output_type": "stream",
     "text": [
      "Logistic Regression score after Grid Search:  0.45416666666666666\n",
      "Logistic Regression mean CV score after Grid Search:  0.471875\n"
     ]
    }
   ],
   "source": [
    "pipe_logi.set_params(**g_logi.best_params_)\n",
    "pipe_logi.fit(X_train,y_train)\n",
    "print(\"Logistic Regression score after Grid Search: \", pipe_logi.score(X_test, y_test))\n",
    "print(\"Logistic Regression mean CV score after Grid Search: \", cross_val_score(pipe_logi, X_train, y_train, cv=KFold(shuffle=True, n_splits=5), scoring=\"accuracy\").mean())\n"
   ]
  }
 ],
 "metadata": {
  "kernelspec": {
   "display_name": "ML",
   "language": "python",
   "name": "python3"
  },
  "language_info": {
   "codemirror_mode": {
    "name": "ipython",
    "version": 3
   },
   "file_extension": ".py",
   "mimetype": "text/x-python",
   "name": "python",
   "nbconvert_exporter": "python",
   "pygments_lexer": "ipython3",
   "version": "3.9.16"
  },
  "orig_nbformat": 4
 },
 "nbformat": 4,
 "nbformat_minor": 2
}
